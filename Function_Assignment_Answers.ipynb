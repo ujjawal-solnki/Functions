{
 "cells": [
  {
   "cell_type": "markdown",
   "id": "2a4eb0ec",
   "metadata": {},
   "source": [
    "### What is the difference between a function and a method in Python?\n",
    "A **function** is a block of code that performs a specific task and is defined using `def`. It can be called independently.\n",
    "\n",
    "A **method** is similar to a function, but it is associated with an object and is called on that object. Methods implicitly take the object (self) as their first argument.\n",
    "\n",
    "Example:\n",
    "```python\n",
    "# Function\n",
    "def greet(name):\n",
    "    return f'Hello {name}'\n",
    "\n",
    "print(greet('Alice'))\n",
    "\n",
    "# Method\n",
    "text = 'hello'\n",
    "print(text.upper())  # upper() is a method of str class\n",
    "```"
   ]
  },
  {
   "cell_type": "markdown",
   "id": "42633c98",
   "metadata": {},
   "source": [
    "### Explain the concept of function arguments and parameters in Python.\n",
    "Parameters are variables listed inside the parentheses in a function definition, while arguments are the actual values passed when the function is called.\n",
    "\n",
    "Example:\n",
    "```python\n",
    "def add(a, b):  # a and b are parameters\n",
    "    return a + b\n",
    "\n",
    "print(add(3, 5))  # 3 and 5 are arguments\n",
    "```"
   ]
  },
  {
   "cell_type": "markdown",
   "id": "49c2e963",
   "metadata": {},
   "source": [
    "### What are the different ways to define and call a function in Python?\n",
    "1. **Standard function definition** with `def`.\n",
    "2. **Lambda function** for short anonymous functions.\n",
    "3. **Built-in functions** like `len()`, `sum()`.\n",
    "\n",
    "Example:\n",
    "```python\n",
    "def square(x):\n",
    "    return x*x\n",
    "\n",
    "f = lambda x: x*x\n",
    "\n",
    "print(square(4))\n",
    "print(f(4))\n",
    "```"
   ]
  },
  {
   "cell_type": "markdown",
   "id": "f5c6ebda",
   "metadata": {},
   "source": [
    "### What is the purpose of the `return` statement in a Python function?\n",
    "The `return` statement is used to send a value back from a function to the caller. Without return, a function returns `None` by default.\n",
    "\n",
    "Example:\n",
    "```python\n",
    "def multiply(a, b):\n",
    "    return a*b\n",
    "\n",
    "result = multiply(4, 5)\n",
    "print(result)\n",
    "```"
   ]
  },
  {
   "cell_type": "markdown",
   "id": "1f7dfff5",
   "metadata": {},
   "source": [
    "### What are iterators in Python and how do they differ from iterables?\n",
    "An **iterable** is an object that can return an iterator, such as lists, strings, and tuples. An **iterator** is an object that represents a stream of data and implements the `__iter__()` and `__next__()` methods.\n",
    "\n",
    "Example:\n",
    "```python\n",
    "my_list = [1,2,3]\n",
    "iterator = iter(my_list)\n",
    "print(next(iterator))\n",
    "```"
   ]
  },
  {
   "cell_type": "markdown",
   "id": "2003dd6f",
   "metadata": {},
   "source": [
    "### Explain the concept of generators in Python and how they are defined.\n",
    "Generators are functions that use the `yield` keyword to produce a sequence of values lazily, meaning values are generated one at a time and not stored in memory.\n",
    "\n",
    "Example:\n",
    "```python\n",
    "def count_up_to(n):\n",
    "    i = 1\n",
    "    while i <= n:\n",
    "        yield i\n",
    "        i += 1\n",
    "\n",
    "for num in count_up_to(5):\n",
    "    print(num)\n",
    "```"
   ]
  },
  {
   "cell_type": "markdown",
   "id": "ea4db344",
   "metadata": {},
   "source": [
    "### What are the advantages of using generators over regular functions?\n",
    "- Generators use less memory since they generate values on the fly.\n",
    "- They are efficient for working with large datasets.\n",
    "- They provide lazy evaluation, producing values only when needed."
   ]
  },
  {
   "cell_type": "markdown",
   "id": "2257cb22",
   "metadata": {},
   "source": [
    "### What is a lambda function in Python and when is it typically used?\n",
    "A lambda function is a small anonymous function defined with the `lambda` keyword. They are often used when a short function is required temporarily.\n",
    "\n",
    "Example:\n",
    "```python\n",
    "square = lambda x: x*x\n",
    "print(square(5))\n",
    "```"
   ]
  },
  {
   "cell_type": "markdown",
   "id": "931f9663",
   "metadata": {},
   "source": [
    "### Explain the purpose and usage of the `map()` function in Python.\n",
    "`map()` applies a function to each element of an iterable and returns a map object (iterator).\n",
    "\n",
    "Example:\n",
    "```python\n",
    "nums = [1,2,3,4]\n",
    "squares = map(lambda x: x*x, nums)\n",
    "print(list(squares))\n",
    "```"
   ]
  },
  {
   "cell_type": "markdown",
   "id": "38a33c2a",
   "metadata": {},
   "source": [
    "### What is the difference between `map()`, `reduce()`, and `filter()` functions in Python?\n",
    "- **map()** applies a function to all elements.\n",
    "- **filter()** filters elements based on a condition.\n",
    "- **reduce()** applies a function cumulatively to reduce to a single value.\n",
    "\n",
    "Example:\n",
    "```python\n",
    "from functools import reduce\n",
    "nums = [1,2,3,4]\n",
    "print(list(map(lambda x:x*2, nums)))\n",
    "print(list(filter(lambda x:x%2==0, nums)))\n",
    "print(reduce(lambda a,b:a+b, nums))\n",
    "```"
   ]
  },
  {
   "cell_type": "markdown",
   "id": "577dc789",
   "metadata": {},
   "source": [
    "# Solution of practical questions"
   ]
  },
  {
   "cell_type": "markdown",
   "id": "f1f0931b",
   "metadata": {},
   "source": [
    "### Write a Python function that takes a list of numbers as input and returns the sum of all even numbers in the list."
   ]
  },
  {
   "cell_type": "code",
   "execution_count": null,
   "id": "5606e549",
   "metadata": {},
   "outputs": [],
   "source": [
    "def sum_even(numbers):\n",
    "    return sum(n for n in numbers if n % 2 == 0)\n",
    "\n",
    "print(sum_even([1,2,3,4,5,6]))"
   ]
  },
  {
   "cell_type": "markdown",
   "id": "824b6001",
   "metadata": {},
   "source": [
    "### Create a Python function that accepts a string and returns the reverse of that string."
   ]
  },
  {
   "cell_type": "code",
   "execution_count": null,
   "id": "9014d6c1",
   "metadata": {},
   "outputs": [],
   "source": [
    "def reverse_string(s):\n",
    "    return s[::-1]\n",
    "\n",
    "print(reverse_string('hello'))"
   ]
  },
  {
   "cell_type": "markdown",
   "id": "f9d6ea5a",
   "metadata": {},
   "source": [
    "### Implement a Python function that takes a list of integers and returns a new list containing the squares of each number."
   ]
  },
  {
   "cell_type": "code",
   "execution_count": null,
   "id": "c4805dd3",
   "metadata": {},
   "outputs": [],
   "source": [
    "def squares(lst):\n",
    "    return [x**2 for x in lst]\n",
    "\n",
    "print(squares([1,2,3,4]))"
   ]
  },
  {
   "cell_type": "markdown",
   "id": "5b036d59",
   "metadata": {},
   "source": [
    "### Write a Python function that checks if a given number is prime or not from 1 to 200."
   ]
  },
  {
   "cell_type": "code",
   "execution_count": null,
   "id": "dfc05755",
   "metadata": {},
   "outputs": [],
   "source": [
    "def is_prime(n):\n",
    "    if n <= 1:\n",
    "        return False\n",
    "    for i in range(2, int(n**0.5)+1):\n",
    "        if n % i == 0:\n",
    "            return False\n",
    "    return True\n",
    "\n",
    "print([n for n in range(1,201) if is_prime(n)])"
   ]
  },
  {
   "cell_type": "markdown",
   "id": "d4759515",
   "metadata": {},
   "source": [
    "### Create an iterator class in Python that generates the Fibonacci sequence up to a specified number of terms."
   ]
  },
  {
   "cell_type": "code",
   "execution_count": null,
   "id": "87cd97c5",
   "metadata": {},
   "outputs": [],
   "source": [
    "class Fibonacci:\n",
    "    def __init__(self, n):\n",
    "        self.n = n\n",
    "        self.a, self.b, self.count = 0, 1, 0\n",
    "\n",
    "    def __iter__(self):\n",
    "        return self\n",
    "\n",
    "    def __next__(self):\n",
    "        if self.count < self.n:\n",
    "            val = self.a\n",
    "            self.a, self.b = self.b, self.a+self.b\n",
    "            self.count += 1\n",
    "            return val\n",
    "        else:\n",
    "            raise StopIteration\n",
    "\n",
    "print(list(Fibonacci(10)))"
   ]
  },
  {
   "cell_type": "markdown",
   "id": "a16c3f4b",
   "metadata": {},
   "source": [
    "### Write a generator function in Python that yields the powers of 2 up to a given exponent."
   ]
  },
  {
   "cell_type": "code",
   "execution_count": null,
   "id": "fe16b8ab",
   "metadata": {},
   "outputs": [],
   "source": [
    "def powers_of_two(n):\n",
    "    for i in range(n+1):\n",
    "        yield 2**i\n",
    "\n",
    "print(list(powers_of_two(5)))"
   ]
  },
  {
   "cell_type": "markdown",
   "id": "ba34ddc2",
   "metadata": {},
   "source": [
    "### Implement a generator function that reads a file line by line and yields each line as a string."
   ]
  },
  {
   "cell_type": "code",
   "execution_count": null,
   "id": "1e57325f",
   "metadata": {},
   "outputs": [],
   "source": [
    "def read_file(file_path):\n",
    "    with open(file_path, 'r') as f:\n",
    "        for line in f:\n",
    "            yield line.strip()\n",
    "\n",
    "# Example (assuming a file 'sample.txt'):\n",
    "# for line in read_file('sample.txt'):\n",
    "#     print(line)"
   ]
  },
  {
   "cell_type": "markdown",
   "id": "a9a9b8df",
   "metadata": {},
   "source": [
    "### Use a lambda function in Python to sort a list of tuples based on the second element of each tuple."
   ]
  },
  {
   "cell_type": "code",
   "execution_count": null,
   "id": "0a51fef4",
   "metadata": {},
   "outputs": [],
   "source": [
    "data = [(1,3),(2,1),(3,2)]\n",
    "print(sorted(data, key=lambda x: x[1]))"
   ]
  },
  {
   "cell_type": "markdown",
   "id": "44c785ab",
   "metadata": {},
   "source": [
    "### Write a Python program that uses `map()` to convert a list of temperatures from Celsius to Fahrenheit."
   ]
  },
  {
   "cell_type": "code",
   "execution_count": null,
   "id": "1dc1b4c3",
   "metadata": {},
   "outputs": [],
   "source": [
    "celsius = [0,10,20,30]\n",
    "fahrenheit = list(map(lambda c: (c*9/5)+32, celsius))\n",
    "print(fahrenheit)"
   ]
  },
  {
   "cell_type": "markdown",
   "id": "193fc1a1",
   "metadata": {},
   "source": [
    "### Create a Python program that uses `filter()` to remove all the vowels from a given string."
   ]
  },
  {
   "cell_type": "code",
   "execution_count": null,
   "id": "6156f4fd",
   "metadata": {},
   "outputs": [],
   "source": [
    "s = 'hello world'\n",
    "vowels = 'aeiou'\n",
    "filtered = ''.join(filter(lambda ch: ch not in vowels, s))\n",
    "print(filtered)"
   ]
  },
  {
   "cell_type": "markdown",
   "id": "a074d3b7",
   "metadata": {},
   "source": [
    "### Write a Python program, which returns a list with 2-tuples (order_number, total_price) from order data."
   ]
  },
  {
   "cell_type": "code",
   "execution_count": null,
   "id": "28a23312",
   "metadata": {},
   "outputs": [],
   "source": [
    "orders = [\n",
    "    [34587, 'Learning Python', 4, 40.95],\n",
    "    [98762, 'Programming in C', 5, 56.80],\n",
    "    [77226, 'Head First Java', 3, 32.95],\n",
    "    [88112, 'Python Cookbook', 3, 24.99]\n",
    "]\n",
    "\n",
    "result = list(map(lambda order: (order[0], order[2]*order[3] if order[2]*order[3] >= 100 else order[2]*order[3]+10), orders))\n",
    "print(result)"
   ]
  }
 ],
 "metadata": {
  "language_info": {
   "name": "python"
  }
 },
 "nbformat": 4,
 "nbformat_minor": 5
}
